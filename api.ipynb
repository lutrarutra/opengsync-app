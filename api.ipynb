{
 "cells": [
  {
   "cell_type": "code",
   "execution_count": 27,
   "metadata": {},
   "outputs": [
    {
     "name": "stdout",
     "output_type": "stream",
     "text": [
      "The autoreload extension is already loaded. To reload it, use:\n",
      "  %reload_ext autoreload\n",
      "The opengsync_db.ext.autosession extension is already loaded. To reload it, use:\n",
      "  %reload_ext opengsync_db.ext.autosession\n"
     ]
    },
    {
     "data": {
      "text/plain": [
       "True"
      ]
     },
     "execution_count": 27,
     "metadata": {},
     "output_type": "execute_result"
    }
   ],
   "source": [
    "%load_ext autoreload\n",
    "%autoreload 2\n",
    "\n",
    "from opengsync_db import categories, DBHandler\n",
    "from opengsync_db.ext.autosession import set_db\n",
    "%load_ext opengsync_db.ext.autosession\n",
    "\n",
    "from IPython.display import display\n",
    "import pandas as pd\n",
    "from dotenv import load_dotenv\n",
    "import os\n",
    "\n",
    "load_dotenv()"
   ]
  },
  {
   "cell_type": "code",
   "execution_count": 28,
   "metadata": {},
   "outputs": [
    {
     "name": "stdout",
     "output_type": "stream",
     "text": [
      "LOG: Connected to DB 'postgresql+psycopg://bsf-opengsync.int.cemm.at:5432/opengsync_db'\n"
     ]
    }
   ],
   "source": [
    "db = DBHandler()\n",
    "db.connect(\n",
    "    user=os.environ[\"POSTGRES_USER\"],\n",
    "    password=os.environ[\"POSTGRES_PASSWORD\"],\n",
    "    host=os.environ[\"POSTGRES_SERVER_IP\"],\n",
    "    port=os.environ[\"POSTGRES_PORT\"],\n",
    "    db=os.environ[\"POSTGRES_DB\"],\n",
    ")\n",
    "set_db(db)"
   ]
  },
  {
   "cell_type": "markdown",
   "metadata": {},
   "source": [
    "### 0. Categories (Enums)"
   ]
  },
  {
   "cell_type": "code",
   "execution_count": 29,
   "metadata": {},
   "outputs": [
    {
     "data": {
      "text/plain": [
       "(101, 'Poly-A RNA-Seq', 2697049)"
      ]
     },
     "execution_count": 29,
     "metadata": {},
     "output_type": "execute_result"
    }
   ],
   "source": [
    "# These are used to store statuses or types, e.g. LibraryType, ExperimentStatus, GenomeRef\n",
    "# Each enum has a unique id inside it's own enum-class\n",
    "# these are defined in services/opengsync-app/opengsync-db/opengsync_db/categories/\n",
    "categories.LibraryType.POLY_A_RNA_SEQ.id, categories.LibraryType.POLY_A_RNA_SEQ.name, categories.GenomeRef.COVID.organism_tax_id"
   ]
  },
  {
   "cell_type": "markdown",
   "metadata": {},
   "source": [
    "### 1. Get All Libraries from Sequencing Run (Before demultiplexing flowcell)"
   ]
  },
  {
   "cell_type": "code",
   "execution_count": null,
   "metadata": {},
   "outputs": [],
   "source": [
    "experiment = db.experiments[\"BSF_1776\"]\n",
    "print(experiment)\n",
    "print(experiment.flowcell_type)\n",
    "print(experiment.operator)\n",
    "print(experiment.num_lanes)\n",
    "print(experiment.status)"
   ]
  },
  {
   "cell_type": "code",
   "execution_count": null,
   "metadata": {},
   "outputs": [],
   "source": [
    "# This dataframe should be sufficient to demultiplex a flowcell\n",
    "experiment_libraries = db.pd.get_flowcell(experiment_id=experiment.id)\n",
    "experiment_libraries.sample(10)"
   ]
  },
  {
   "cell_type": "markdown",
   "metadata": {},
   "source": [
    "#### 1.1 Grouping by Sequencing Request"
   ]
  },
  {
   "cell_type": "code",
   "execution_count": null,
   "metadata": {},
   "outputs": [],
   "source": [
    "# Demultiplexed fastq-files should be grouped by 'seq_request_id' as each Sequencing Request can have only one Requestor\n",
    "for (seq_request_id), df in experiment_libraries.groupby(\"seq_request_id\"):\n",
    "    print(f\"seq_request_id: {seq_request_id}\")\n",
    "    display(df.head(20))\n",
    "    print(\"...\\n\")\n"
   ]
  },
  {
   "cell_type": "markdown",
   "metadata": {},
   "source": [
    "#### 1.2 Filtering Library Type"
   ]
  },
  {
   "cell_type": "code",
   "execution_count": null,
   "metadata": {},
   "outputs": [],
   "source": [
    "experiment_libraries[experiment_libraries[\"library_type\"] == categories.LibraryType.WGS].head(3)"
   ]
  },
  {
   "cell_type": "markdown",
   "metadata": {},
   "source": [
    "### 2. Downstream Projects (after demultiplexing)"
   ]
  },
  {
   "cell_type": "code",
   "execution_count": 34,
   "metadata": {},
   "outputs": [
    {
     "data": {
      "text/plain": [
       "Project(id: 61, identifier: BSA_1041)"
      ]
     },
     "execution_count": 34,
     "metadata": {},
     "output_type": "execute_result"
    }
   ],
   "source": [
    "project = db.projects[\"BSA_1041\"]\n",
    "# or if identifier not assigned you can also use ID (integer)\n",
    "# project = db.projects[61]\n",
    "project"
   ]
  },
  {
   "cell_type": "code",
   "execution_count": null,
   "metadata": {},
   "outputs": [],
   "source": [
    "db.pd.get_project_samples(project.id)"
   ]
  },
  {
   "cell_type": "code",
   "execution_count": null,
   "metadata": {},
   "outputs": [],
   "source": [
    "# this dataframe should be enough to find all fastq-files generated from demultiplexing step\n",
    "# projects can contain multiple requests, and libraries from multiple experiments\n",
    "project_libraries = db.pd.get_project_libraries(project.id)\n",
    "project_libraries"
   ]
  },
  {
   "cell_type": "code",
   "execution_count": null,
   "metadata": {},
   "outputs": [],
   "source": [
    "# Sequencing Requests associated with a project\n",
    "db.pd.get_project_seq_requests(project.id)"
   ]
  },
  {
   "cell_type": "markdown",
   "metadata": {},
   "source": [
    "### 3. Using ORM instead of Pandas Dataframe"
   ]
  },
  {
   "cell_type": "code",
   "execution_count": null,
   "metadata": {},
   "outputs": [],
   "source": [
    "seq_request = db.seq_requests[1]\n",
    "print(seq_request.contact_person)\n",
    "print(seq_request.comments)\n",
    "print(seq_request.data_delivery_mode)"
   ]
  }
 ],
 "metadata": {
  "kernelspec": {
   "display_name": "opengsync",
   "language": "python",
   "name": "python3"
  },
  "language_info": {
   "codemirror_mode": {
    "name": "ipython",
    "version": 3
   },
   "file_extension": ".py",
   "mimetype": "text/x-python",
   "name": "python",
   "nbconvert_exporter": "python",
   "pygments_lexer": "ipython3",
   "version": "3.13.5"
  }
 },
 "nbformat": 4,
 "nbformat_minor": 2
}
